{
 "cells": [
  {
   "cell_type": "code",
   "execution_count": 1,
   "metadata": {},
   "outputs": [],
   "source": [
    "import pandas as pd\n",
    "import os\n",
    "from pathlib import Path"
   ]
  },
  {
   "cell_type": "code",
   "execution_count": null,
   "metadata": {},
   "outputs": [],
   "source": [
    "import fitz\n",
    "\n",
    "def extractText(file): \n",
    "    doc = fitz.open(file) \n",
    "    text = ''\n",
    "    for page in doc: \n",
    "        t = page.getText().encode(\"utf8\") \n",
    "        text = text + '\\n \\n pagebreak \\n \\n' + t.decode(\"utf-8\")\n",
    "    return text"
   ]
  },
  {
   "cell_type": "code",
   "execution_count": null,
   "metadata": {},
   "outputs": [],
   "source": [
    "path = 'C:/Users/kanya/Desktop/Documents/texttransfer data/KI_PDFs'   # change the path to the pdf data in a specific domain\n",
    "path1 = list(Path(path).rglob('*.pdf*'))\n",
    "\n",
    "text = []\n",
    "fail = []\n",
    "\n",
    "\n",
    "for j in range(len(path1)):\n",
    "    try:\n",
    "        text = extractText(str(path1[j]))   #extract contents from pdf files\n",
    "        path2 = str(path1[j])[:-4]+'.txt'          #set the path to store the extracted content\n",
    "        text_file = open(path2, \"w\", encoding='utf-8')   #locate to the storage path\n",
    "        text_file.write(str(text))     #store the content as .txt files\n",
    "    except Exception:                  #skip the pdf files if failing to extract\n",
    "        pass\n",
    "        fail.append(path1[j])            #store the names of the files we fail to\n",
    "    continue\n",
    "text_file.close()"
   ]
  },
  {
   "cell_type": "code",
   "execution_count": 223,
   "metadata": {},
   "outputs": [],
   "source": [
    "path = 'C:/Users/kanya/Desktop/Documents/texttransfer data/MuWi_PDFs'    # change the path to the pdf data in a specific domain\n",
    "path1 = list(Path(path).rglob('*.pdf*'))\n",
    "\n",
    "text = []\n",
    "fail = []\n",
    "\n",
    "\n",
    "for j in range(len(path1)):\n",
    "    try:\n",
    "        text = extractText(str(path1[j]))   #extract contents from pdf files\n",
    "        path2 = str(path1[j])[:-4]+'.txt'          #set the path to store the extracted content\n",
    "        text_file = open(path2, \"w\", encoding='utf-8')   #locate to the storage path\n",
    "        text_file.write(str(text))     #store the content as .txt files\n",
    "    except Exception:                  #skip the pdf files if failing to extract\n",
    "        pass\n",
    "        fail.append(path1[j])            #store the names of the files we fail to\n",
    "    continue\n",
    "text_file.close()"
   ]
  },
  {
   "cell_type": "code",
   "execution_count": 30,
   "metadata": {},
   "outputs": [],
   "source": [
    "path = 'C:/Users/kanya/Desktop/Documents/texttransfer data/Ling_PDFs'    # change the path to the pdf data in a specific domain\n",
    "path1 = list(Path(path).rglob('*.pdf*'))\n",
    "\n",
    "text = []\n",
    "fail = []\n",
    "\n",
    "\n",
    "for j in range(len(path1)):\n",
    "    try:\n",
    "        text = extractText(str(path1[j]))   #extract contents from pdf files\n",
    "        path2 = str(path1[j])[:-4]+'.txt'          #set the path to store the extracted content\n",
    "        text_file = open(path2, \"w\", encoding='utf-8')   #locate to the storage path\n",
    "        text_file.write(str(text))     #store the content as .txt files\n",
    "    except Exception:                  #skip the pdf files if failing to extract\n",
    "        pass\n",
    "        fail.append(path1[j])            #store the names of the files we fail to\n",
    "    continue\n",
    "text_file.close()"
   ]
  },
  {
   "cell_type": "code",
   "execution_count": null,
   "metadata": {},
   "outputs": [],
   "source": [
    "path = 'C:/Users/kanya/Desktop/Documents/texttransfer data/ZMob'    # change the path to the pdf data in a specific domain\n",
    "path1 = list(Path(path).rglob('*.pdf*'))\n",
    "\n",
    "text = []\n",
    "fail = []\n",
    "\n",
    "\n",
    "for j in range(len(path1)):\n",
    "    try:\n",
    "        text = extractText(str(path1[j]))   #extract contents from pdf files\n",
    "        path2 = str(path1[j])[:-4]+'.txt'          #set the path to store the extracted content\n",
    "        text_file = open(path2, \"w\", encoding='utf-8')   #locate to the storage path\n",
    "        text_file.write(str(text))     #store the content as .txt files\n",
    "    except Exception:                  #skip the pdf files if failing to extract\n",
    "        pass\n",
    "        fail.append(path1[j])            #store the names of the files we fail to\n",
    "    continue\n",
    "text_file.close()"
   ]
  }
 ],
 "metadata": {
  "kernelspec": {
   "display_name": "Python 3 (ipykernel)",
   "language": "python",
   "name": "python3"
  },
  "language_info": {
   "codemirror_mode": {
    "name": "ipython",
    "version": 3
   },
   "file_extension": ".py",
   "mimetype": "text/x-python",
   "name": "python",
   "nbconvert_exporter": "python",
   "pygments_lexer": "ipython3",
   "version": "3.8.5"
  }
 },
 "nbformat": 4,
 "nbformat_minor": 4
}
