{
 "cells": [
  {
   "cell_type": "code",
   "execution_count": 1,
   "id": "df1d0292-ed9d-4742-953c-204648f7eb5a",
   "metadata": {},
   "outputs": [],
   "source": [
    "import pandas as pd\n",
    "import math"
   ]
  },
  {
   "cell_type": "markdown",
   "id": "798ec7e0-b7c7-4da9-b87e-b5c604d6e3b6",
   "metadata": {},
   "source": [
    "# Random forest model training"
   ]
  },
  {
   "cell_type": "code",
   "execution_count": 2,
   "id": "0c367c31-d8d5-4253-968a-c244c1d0c020",
   "metadata": {},
   "outputs": [],
   "source": [
    "## past annotated data in the first phase of TT project\n",
    "past_data = pd.read_csv('./annotated_data.big_set.corrected.txt', sep=';' , encoding='latin-1', \n",
    "                        header = None, \n",
    "                        names = ['doc', 'col1', 'col2', 'text', 'label1', 'label2', 'label3'])"
   ]
  },
  {
   "cell_type": "code",
   "execution_count": 3,
   "id": "a05c62c4-51ac-4f81-a137-03faf3645d85",
   "metadata": {},
   "outputs": [],
   "source": [
    "## annotated data by the German team\n",
    "data = pd.read_excel('./evaluation_20220927.ods', engine = 'odf')"
   ]
  },
  {
   "cell_type": "code",
   "execution_count": 4,
   "id": "be40fd38-a841-46eb-8d64-9eea7de5e18a",
   "metadata": {},
   "outputs": [
    {
     "name": "stderr",
     "output_type": "stream",
     "text": [
      "/tmp/ipykernel_679427/2894172796.py:33: SettingWithCopyWarning: \n",
      "A value is trying to be set on a copy of a slice from a DataFrame\n",
      "\n",
      "See the caveats in the documentation: https://pandas.pydata.org/pandas-docs/stable/user_guide/indexing.html#returning-a-view-versus-a-copy\n",
      "  data['exclude_inhalt'][list_exclude] = True\n"
     ]
    }
   ],
   "source": [
    "## identify table of content\n",
    "data['inhalt1'] = data['text'].str.contains('Inhaltsverzeichnis', case=True).apply(lambda x: 1 if x else 0)\n",
    "data['inhalt2'] = data['text'].str.contains('Inhalt', case=True).apply(lambda x: 1 if x else 0)\n",
    "inhalt1_sum = data.groupby('file').sum('inhalt1')\n",
    "inhalt1_ind = inhalt1_sum[inhalt1_sum['inhalt1'] > 0].index.tolist()\n",
    "inhalt2_ind = set(inhalt1_sum.index) - set(inhalt1_ind)\n",
    "\n",
    "data['exclude_inhalt'] = False\n",
    "\n",
    "\n",
    "\n",
    "list_exclude = []\n",
    "for i in inhalt1_ind:\n",
    "    data_part = data[data['file'] == i]\n",
    "    ind_start = data_part.index.tolist()[0]\n",
    "    data_part = data_part[data_part['inhalt1'] == True]\n",
    "    if len(data_part) > 0:\n",
    "        ind_end = data_part[data_part['inhalt1'] == True].index[0]\n",
    "        range_inhalt = list(range(ind_start, ind_end+1))\n",
    "        if len(range_inhalt) <= 30: # change\n",
    "            list_exclude = list_exclude + range_inhalt\n",
    "            \n",
    "for i in inhalt2_ind:\n",
    "    data_part = data[data['file'] == i]\n",
    "    ind_start = data_part.index.tolist()[0]\n",
    "    data_part = data_part[data_part['inhalt2'] == True]\n",
    "    if len(data_part) > 0:\n",
    "        ind_end = data_part[data_part['inhalt2'] == True].index[0]\n",
    "        range_inhalt = list(range(ind_start, ind_end+1))\n",
    "        if len(range_inhalt) <= 30: # change\n",
    "            list_exclude = list_exclude + range_inhalt\n",
    "            \n",
    "            \n",
    "data['exclude_inhalt'][list_exclude] = True"
   ]
  },
  {
   "cell_type": "code",
   "execution_count": 5,
   "id": "57624fa6-4ca9-4030-97be-bae77ca7cfb4",
   "metadata": {},
   "outputs": [],
   "source": [
    "# identify bibliography\n",
    "\n",
    "data['inhalt1'] = data['text'].str.contains('Bibliographie|Bibliografie|Literaturverzeichnis', case=True).apply(lambda x: 1 if x else 0)\n",
    "data['inhalt2'] = data['text'].str.contains('Literatur', case=True).apply(lambda x: 1 if x else 0)\n",
    "inhalt1_sum = data.groupby('file').sum('inhalt1')\n",
    "inhalt1_ind = inhalt1_sum[inhalt1_sum['inhalt1'] > 0].index.tolist()\n",
    "inhalt2_ind = set(inhalt1_sum.index) - set(inhalt1_ind)\n",
    "data['exclude_inhalt1'] = False"
   ]
  },
  {
   "cell_type": "code",
   "execution_count": 6,
   "id": "8f59c077-bdd8-4f94-abea-3f69447d32cf",
   "metadata": {},
   "outputs": [],
   "source": [
    "list_exclude = []\n",
    "for i in inhalt1_ind:\n",
    "    data_part = data[data['file'] == i]\n",
    "    ind_start = data_part.index.tolist()[-1]\n",
    "    data_part = data_part[data_part['inhalt1'] == True]\n",
    "    if len(data_part) > 0:\n",
    "        ind_end = data_part.index[-1]\n",
    "        range_inhalt = list(range(ind_end, ind_start+1))\n",
    "        if len(range_inhalt) <= 75: # change\n",
    "            list_exclude = list_exclude + range_inhalt\n",
    "            \n",
    "for i in inhalt2_ind:\n",
    "    data_part = data[data['file'] == i]\n",
    "    ind_start = data_part.index.tolist()[-1]\n",
    "    data_part = data_part[data_part['inhalt2'] == True]\n",
    "    if len(data_part) > 0:\n",
    "        ind_end = data_part.index[-1]\n",
    "        range_inhalt = list(range(ind_end, ind_start+1))\n",
    "        if len(range_inhalt) <= 75: # change\n",
    "            list_exclude = list_exclude + range_inhalt"
   ]
  },
  {
   "cell_type": "code",
   "execution_count": 7,
   "id": "13d30676-88e4-476b-937c-2a923c406934",
   "metadata": {},
   "outputs": [
    {
     "name": "stderr",
     "output_type": "stream",
     "text": [
      "/tmp/ipykernel_679427/2453373711.py:1: SettingWithCopyWarning: \n",
      "A value is trying to be set on a copy of a slice from a DataFrame\n",
      "\n",
      "See the caveats in the documentation: https://pandas.pydata.org/pandas-docs/stable/user_guide/indexing.html#returning-a-view-versus-a-copy\n",
      "  data['exclude_inhalt1'][list_exclude] = True\n"
     ]
    }
   ],
   "source": [
    "data['exclude_inhalt1'][list_exclude] = True"
   ]
  },
  {
   "cell_type": "code",
   "execution_count": 8,
   "id": "f2f37f55-d42d-4556-9f62-1fda625305fb",
   "metadata": {
    "tags": []
   },
   "outputs": [],
   "source": [
    "# calculate the number of token in each paragraph and remove those with too less tokens\n",
    "\n",
    "data['text'] = data['text'].apply(lambda x: str(x))"
   ]
  },
  {
   "cell_type": "code",
   "execution_count": 9,
   "id": "2dbd1f64-2e0f-45c7-bae2-53f4c267e7b0",
   "metadata": {},
   "outputs": [
    {
     "name": "stderr",
     "output_type": "stream",
     "text": [
      "/tmp/ipykernel_679427/2130238111.py:1: FutureWarning: The default value of regex will change from True to False in a future version. In addition, single character regular expressions will *not* be treated as literal strings when regex=True.\n",
      "  data['num_token'] = data['text'].str.replace('.', '').str.replace(r\"\\s+\", ' ').apply(lambda x: len(x.split(' ')))\n",
      "/tmp/ipykernel_679427/2130238111.py:1: FutureWarning: The default value of regex will change from True to False in a future version.\n",
      "  data['num_token'] = data['text'].str.replace('.', '').str.replace(r\"\\s+\", ' ').apply(lambda x: len(x.split(' ')))\n"
     ]
    }
   ],
   "source": [
    "data['num_token'] = data['text'].str.replace('.', '').str.replace(r\"\\s+\", ' ').apply(lambda x: len(x.split(' ')))"
   ]
  },
  {
   "cell_type": "code",
   "execution_count": 10,
   "id": "e0c25d21-2562-4b91-b249-5e7b43c25c6d",
   "metadata": {},
   "outputs": [],
   "source": [
    "data['exclude_num_token'] = (data['num_token'] < 25) # change"
   ]
  },
  {
   "cell_type": "code",
   "execution_count": 11,
   "id": "289153aa-6906-46ae-934c-517e66dbb148",
   "metadata": {},
   "outputs": [
    {
     "name": "stderr",
     "output_type": "stream",
     "text": [
      "/tmp/ipykernel_679427/695616058.py:1: UserWarning: Boolean Series key will be reindexed to match DataFrame index.\n",
      "  data = data[data['exclude_inhalt'] == False][data['exclude_inhalt1'] == False][data['exclude_num_token'] == False]\n"
     ]
    }
   ],
   "source": [
    "# remove all irrelevant paragraphs identifed by rule based methods above\n",
    "data = data[data['exclude_inhalt'] == False][data['exclude_inhalt1'] == False][data['exclude_num_token'] == False]"
   ]
  },
  {
   "cell_type": "code",
   "execution_count": 12,
   "id": "764b7ca3-3f82-4ba6-b44d-5f29e639020e",
   "metadata": {},
   "outputs": [],
   "source": [
    "# Since the TT-I annotated data is at sentence level, merge them into paragraph level based on the average length of paragraphs in our current data\n",
    "text = []\n",
    "doc = []\n",
    "for i in past_data['doc'].unique():\n",
    "    df = past_data[past_data['doc'] == i]\n",
    "    length = math.ceil(len(df)/5)\n",
    "    for h in range(length):\n",
    "        text.append(df[h*5:(h+1)*5]['text'].str.cat(sep = ' '))\n",
    "        doc.append(i)"
   ]
  },
  {
   "cell_type": "code",
   "execution_count": 13,
   "id": "5307fba4-35b2-42c3-b100-62c925beb11d",
   "metadata": {},
   "outputs": [],
   "source": [
    "# Merge the past and current datasets\n",
    "\n",
    "df1 = data[['text', 'label_update_with_scientific_impact', 'test']]\n",
    "df2 = pd.DataFrame({'text': text, 'label_update_with_scientific_impact': [1]*len(text),\n",
    "                    'test': ['no']*len(text)})"
   ]
  },
  {
   "cell_type": "code",
   "execution_count": 14,
   "id": "20d0380c-002d-450e-9540-b9b1c4fefecf",
   "metadata": {},
   "outputs": [],
   "source": [
    "data = pd.concat([df1, df2])\n",
    "data.index = range(len(data))"
   ]
  },
  {
   "cell_type": "code",
   "execution_count": 15,
   "id": "358ee96d-7992-4ce8-9a21-ce68704386f0",
   "metadata": {},
   "outputs": [],
   "source": [
    "# keywords\n",
    "cate1 = ['auswirken', 'Auswirkung', 'beeinflussen', 'beinflußen', \n",
    " 'Effekt', 'effektiv', 'Einfluss', 'Einfluß', 'Fortschritt', 'Impact', 'nachhaltig', 'nutzbar', 'Nutzbarmachung', \n",
    " 'Potential', 'Potenzial', 'umsetzen', 'Umsetzung', 'verändern', 'Veränderung', 'verbessern', \n",
    " 'Verbesserung', 'Verwertung', 'Verwertungsmöglichkeiten', 'wirksam', 'Wirksamkeit', 'Wirkung']\n",
    "cate2 = ['beachtlich', 'Beitrag', 'beitragen', 'direkt', 'Einflussnahme', 'Einflußnahme', 'Einflußmöglichkeit', \n",
    "         'Einflussmöglichkeit', 'Einsatzmöglichkeiten', 'hochrelevant', \n",
    "         'Innovation', 'innovativ', 'realisierbar', 'realisieren', 'Realisierung', 'Ziel', 'zielführend']\n",
    "cate3= 'abschätzbar, abschätzen, anwenden, Anwendung, Anwendungsfall, Anwendungsframework, Anwendungsszenario, Attraktivität, effizient, Entwicklung, Erfolg, Erfolgsaussichten, Ergebnisse, ermöglichen, erreichen, erzielen, Feedback, Frontend, Gewinn, gewinnen, gewinnorientiert, Hauptanwendungsfälle, indirekt, Infrastruktur, infrastrukturell, langfristig, lösen, Lösung, maßgeblich, messbar, meßbar, negativ, neu, nutzen, positiv, produktiv, Projektziele, reagieren, Reaktion, real-world, spürbar, strukturell, Überwindung, unmittelbar, Use_Case, Weiterentwicklung, Wertschöpfung, Wettbewerb, Wettbewerbsanalyse, Zukunft, zukünftig, Zweck'.split(', ')"
   ]
  },
  {
   "cell_type": "code",
   "execution_count": 16,
   "id": "3f1a0f22-0003-4a85-8e95-18d6a42713c0",
   "metadata": {},
   "outputs": [],
   "source": [
    "# compute the frequencies of each keyword in texts as well as the aggregrated number\n",
    "data['aaa'] = data['text'].apply(lambda x: len([word for word in x.split() if word in set(cate1)]))\n",
    "data['bbb'] = data['text'].apply(lambda x: len([word for word in x.split() if word in set(cate2)]))\n",
    "data['ccc'] = data['text'].apply(lambda x: len([word for word in x.split() if word in set(cate3)]))"
   ]
  },
  {
   "cell_type": "code",
   "execution_count": 17,
   "id": "015cd519-aecf-467f-98c5-901cbd71a12f",
   "metadata": {},
   "outputs": [
    {
     "name": "stderr",
     "output_type": "stream",
     "text": [
      "/tmp/ipykernel_679427/2400321340.py:3: PerformanceWarning: DataFrame is highly fragmented.  This is usually the result of calling `frame.insert` many times, which has poor performance.  Consider joining all columns at once using pd.concat(axis=1) instead. To get a de-fragmented frame, use `newframe = frame.copy()`\n",
      "  data[str(i)] = data['text'].apply(lambda x: x.count(i))\n",
      "/tmp/ipykernel_679427/2400321340.py:3: PerformanceWarning: DataFrame is highly fragmented.  This is usually the result of calling `frame.insert` many times, which has poor performance.  Consider joining all columns at once using pd.concat(axis=1) instead. To get a de-fragmented frame, use `newframe = frame.copy()`\n",
      "  data[str(i)] = data['text'].apply(lambda x: x.count(i))\n"
     ]
    }
   ],
   "source": [
    "data['total'] = data['aaa'] + data['bbb'] + data['ccc']\n",
    "for i in set(cate1+cate2+cate3):\n",
    "    data[str(i)] = data['text'].apply(lambda x: x.count(i))"
   ]
  },
  {
   "cell_type": "code",
   "execution_count": 18,
   "id": "e2bd3207-ee57-4f2b-a8a8-72ce19eb8559",
   "metadata": {},
   "outputs": [],
   "source": [
    "# training - validation/testing set split\n",
    "train = data[data['test'] == 'no']\n",
    "test = data[data['test'] == 'yes']"
   ]
  },
  {
   "cell_type": "code",
   "execution_count": 19,
   "id": "3d0ee27d-bb19-4610-8d36-07f180cee3fa",
   "metadata": {},
   "outputs": [
    {
     "data": {
      "text/plain": [
       "2054"
      ]
     },
     "execution_count": 19,
     "metadata": {},
     "output_type": "execute_result"
    }
   ],
   "source": [
    "len(train)"
   ]
  },
  {
   "cell_type": "code",
   "execution_count": 20,
   "id": "94396756-7524-478e-ac76-fd5ca9054e96",
   "metadata": {},
   "outputs": [
    {
     "data": {
      "text/plain": [
       "444"
      ]
     },
     "execution_count": 20,
     "metadata": {},
     "output_type": "execute_result"
    }
   ],
   "source": [
    "len(test)"
   ]
  },
  {
   "cell_type": "code",
   "execution_count": 21,
   "id": "2ca0d694-f707-4221-a59e-bcde70674058",
   "metadata": {},
   "outputs": [],
   "source": [
    "#shuffle data\n",
    "train = train.sample(frac = 1, random_state = 10)"
   ]
  },
  {
   "cell_type": "code",
   "execution_count": 24,
   "id": "28906040-a7a3-474d-bf45-dbe43b30572f",
   "metadata": {},
   "outputs": [
    {
     "name": "stdout",
     "output_type": "stream",
     "text": [
      "              precision    recall  f1-score   support\n",
      "\n",
      "           0       0.85      0.67      0.75       331\n",
      "           1       0.41      0.66      0.51       113\n",
      "\n",
      "    accuracy                           0.67       444\n",
      "   macro avg       0.63      0.67      0.63       444\n",
      "weighted avg       0.74      0.67      0.69       444\n",
      "\n"
     ]
    }
   ],
   "source": [
    "# best model parameters and result\n",
    "from sklearn.ensemble import RandomForestClassifier\n",
    "from sklearn.metrics import classification_report\n",
    "iid = data.columns[3:]\n",
    "clf = RandomForestClassifier(n_estimators = 1000, class_weight = 'balanced', min_samples_leaf = 6, max_depth=6).fit(train[iid], train['label_update_with_scientific_impact'])\n",
    "final = clf.predict(test[iid])\n",
    "print(classification_report(test['label_update_with_scientific_impact'], final))"
   ]
  },
  {
   "cell_type": "markdown",
   "id": "149e21ad-e5ca-49c6-8537-057d375a3ad5",
   "metadata": {},
   "source": [
    "# Prediction"
   ]
  },
  {
   "cell_type": "code",
   "execution_count": 125,
   "id": "6a5514c6-3c31-4a30-b45f-4c186e3a7df8",
   "metadata": {},
   "outputs": [],
   "source": [
    "data = pd.read_csv('./ttparagraph_addmob.txt.gz')"
   ]
  },
  {
   "cell_type": "markdown",
   "id": "2b0b5a77-5a4c-4e1d-a00c-6b5a26d031ec",
   "metadata": {},
   "source": [
    "### Using rule-based method to identify all irrelevant paragraphs"
   ]
  },
  {
   "cell_type": "code",
   "execution_count": 126,
   "id": "fb86c4e8-505f-4677-ba1d-66530b7563ae",
   "metadata": {},
   "outputs": [
    {
     "name": "stderr",
     "output_type": "stream",
     "text": [
      "/tmp/ipykernel_656949/2894172796.py:33: SettingWithCopyWarning: \n",
      "A value is trying to be set on a copy of a slice from a DataFrame\n",
      "\n",
      "See the caveats in the documentation: https://pandas.pydata.org/pandas-docs/stable/user_guide/indexing.html#returning-a-view-versus-a-copy\n",
      "  data['exclude_inhalt'][list_exclude] = True\n"
     ]
    }
   ],
   "source": [
    "\n",
    "data['inhalt1'] = data['text'].str.contains('Inhaltsverzeichnis', case=True).apply(lambda x: 1 if x else 0)\n",
    "data['inhalt2'] = data['text'].str.contains('Inhalt', case=True).apply(lambda x: 1 if x else 0)\n",
    "inhalt1_sum = data.groupby('file').sum('inhalt1')\n",
    "inhalt1_ind = inhalt1_sum[inhalt1_sum['inhalt1'] > 0].index.tolist()\n",
    "inhalt2_ind = set(inhalt1_sum.index) - set(inhalt1_ind)\n",
    "\n",
    "data['exclude_inhalt'] = False\n",
    "\n",
    "\n",
    "\n",
    "list_exclude = []\n",
    "for i in inhalt1_ind:\n",
    "    data_part = data[data['file'] == i]\n",
    "    ind_start = data_part.index.tolist()[0]\n",
    "    data_part = data_part[data_part['inhalt1'] == True]\n",
    "    if len(data_part) > 0:\n",
    "        ind_end = data_part[data_part['inhalt1'] == True].index[0]\n",
    "        range_inhalt = list(range(ind_start, ind_end+1))\n",
    "        if len(range_inhalt) <= 30: # change\n",
    "            list_exclude = list_exclude + range_inhalt\n",
    "            \n",
    "for i in inhalt2_ind:\n",
    "    data_part = data[data['file'] == i]\n",
    "    ind_start = data_part.index.tolist()[0]\n",
    "    data_part = data_part[data_part['inhalt2'] == True]\n",
    "    if len(data_part) > 0:\n",
    "        ind_end = data_part[data_part['inhalt2'] == True].index[0]\n",
    "        range_inhalt = list(range(ind_start, ind_end+1))\n",
    "        if len(range_inhalt) <= 30: # change\n",
    "            list_exclude = list_exclude + range_inhalt\n",
    "            \n",
    "            \n",
    "data['exclude_inhalt'][list_exclude] = True"
   ]
  },
  {
   "cell_type": "code",
   "execution_count": 127,
   "id": "77ec028f-1605-42a4-8f42-7b89efb6e4ac",
   "metadata": {},
   "outputs": [],
   "source": [
    "data['inhalt1'] = data['text'].str.contains('Bibliographie|Bibliografie|Literaturverzeichnis', case=True).apply(lambda x: 1 if x else 0)\n",
    "data['inhalt2'] = data['text'].str.contains('Literatur', case=True).apply(lambda x: 1 if x else 0)\n",
    "inhalt1_sum = data.groupby('file').sum('inhalt1')\n",
    "inhalt1_ind = inhalt1_sum[inhalt1_sum['inhalt1'] > 0].index.tolist()\n",
    "inhalt2_ind = set(inhalt1_sum.index) - set(inhalt1_ind)\n",
    "data['exclude_inhalt1'] = False"
   ]
  },
  {
   "cell_type": "code",
   "execution_count": 128,
   "id": "9c174473-9026-4bd9-b4f2-b6c19d73f223",
   "metadata": {},
   "outputs": [],
   "source": [
    "list_exclude = []\n",
    "for i in inhalt1_ind:\n",
    "    data_part = data[data['file'] == i]\n",
    "    ind_start = data_part.index.tolist()[-1]\n",
    "    data_part = data_part[data_part['inhalt1'] == True]\n",
    "    if len(data_part) > 0:\n",
    "        ind_end = data_part.index[-1]\n",
    "        range_inhalt = list(range(ind_end, ind_start+1))\n",
    "        if len(range_inhalt) <= 75: # change\n",
    "            list_exclude = list_exclude + range_inhalt\n",
    "            \n",
    "for i in inhalt2_ind:\n",
    "    data_part = data[data['file'] == i]\n",
    "    ind_start = data_part.index.tolist()[-1]\n",
    "    data_part = data_part[data_part['inhalt2'] == True]\n",
    "    if len(data_part) > 0:\n",
    "        ind_end = data_part.index[-1]\n",
    "        range_inhalt = list(range(ind_end, ind_start+1))\n",
    "        if len(range_inhalt) <= 75: # change\n",
    "            list_exclude = list_exclude + range_inhalt"
   ]
  },
  {
   "cell_type": "code",
   "execution_count": 129,
   "id": "1df2b8d1-0c73-4bcd-a721-89ceb9f06597",
   "metadata": {},
   "outputs": [
    {
     "name": "stderr",
     "output_type": "stream",
     "text": [
      "/tmp/ipykernel_656949/2453373711.py:1: SettingWithCopyWarning: \n",
      "A value is trying to be set on a copy of a slice from a DataFrame\n",
      "\n",
      "See the caveats in the documentation: https://pandas.pydata.org/pandas-docs/stable/user_guide/indexing.html#returning-a-view-versus-a-copy\n",
      "  data['exclude_inhalt1'][list_exclude] = True\n"
     ]
    }
   ],
   "source": [
    "data['exclude_inhalt1'][list_exclude] = True"
   ]
  },
  {
   "cell_type": "code",
   "execution_count": 130,
   "id": "d5df0d83-b85b-4676-9f97-5b16507a671e",
   "metadata": {
    "tags": []
   },
   "outputs": [],
   "source": [
    "data['text'] = data['text'].apply(lambda x: str(x))"
   ]
  },
  {
   "cell_type": "code",
   "execution_count": 131,
   "id": "9dec63d2-50f9-45f4-b3c2-5909be3588c9",
   "metadata": {},
   "outputs": [
    {
     "name": "stderr",
     "output_type": "stream",
     "text": [
      "/tmp/ipykernel_656949/2130238111.py:1: FutureWarning: The default value of regex will change from True to False in a future version. In addition, single character regular expressions will *not* be treated as literal strings when regex=True.\n",
      "  data['num_token'] = data['text'].str.replace('.', '').str.replace(r\"\\s+\", ' ').apply(lambda x: len(x.split(' ')))\n",
      "/tmp/ipykernel_656949/2130238111.py:1: FutureWarning: The default value of regex will change from True to False in a future version.\n",
      "  data['num_token'] = data['text'].str.replace('.', '').str.replace(r\"\\s+\", ' ').apply(lambda x: len(x.split(' ')))\n"
     ]
    }
   ],
   "source": [
    "data['num_token'] = data['text'].str.replace('.', '').str.replace(r\"\\s+\", ' ').apply(lambda x: len(x.split(' ')))"
   ]
  },
  {
   "cell_type": "code",
   "execution_count": 132,
   "id": "bf876e7b-7c8d-4619-b288-270ee67e86c7",
   "metadata": {},
   "outputs": [],
   "source": [
    "data['exclude_num_token'] = (data['num_token'] < 25) # change"
   ]
  },
  {
   "cell_type": "code",
   "execution_count": null,
   "id": "32e306b2-be65-4827-8c83-f45949639932",
   "metadata": {},
   "outputs": [],
   "source": []
  },
  {
   "cell_type": "code",
   "execution_count": null,
   "id": "acda05e4-85e1-4653-b57f-13c3394a839a",
   "metadata": {},
   "outputs": [],
   "source": [
    "# Calculate the occurences of keywords\n",
    "cate1 = ['auswirken', 'Auswirkung', 'beeinflussen', 'beinflußen', \n",
    " 'Effekt', 'effektiv', 'Einfluss', 'Einfluß', 'Fortschritt', 'Impact', 'nachhaltig', 'nutzbar', 'Nutzbarmachung', \n",
    " 'Potential', 'Potenzial', 'umsetzen', 'Umsetzung', 'verändern', 'Veränderung', 'verbessern', \n",
    " 'Verbesserung', 'Verwertung', 'Verwertungsmöglichkeiten', 'wirksam', 'Wirksamkeit', 'Wirkung']\n",
    "cate2 = ['beachtlich', 'Beitrag', 'beitragen', 'direkt', 'Einflussnahme', 'Einflußnahme', 'Einflußmöglichkeit', \n",
    "         'Einflussmöglichkeit', 'Einsatzmöglichkeiten', 'hochrelevant', \n",
    "         'Innovation', 'innovativ', 'realisierbar', 'realisieren', 'Realisierung', 'Ziel', 'zielführend']\n",
    "cate3= 'abschätzbar, abschätzen, anwenden, Anwendung, Anwendungsfall, Anwendungsframework, Anwendungsszenario, Attraktivität, effizient, Entwicklung, Erfolg, Erfolgsaussichten, Ergebnisse, ermöglichen, erreichen, erzielen, Feedback, Frontend, Gewinn, gewinnen, gewinnorientiert, Hauptanwendungsfälle, indirekt, Infrastruktur, infrastrukturell, langfristig, lösen, Lösung, maßgeblich, messbar, meßbar, negativ, neu, nutzen, positiv, produktiv, Projektziele, reagieren, Reaktion, real-world, spürbar, strukturell, Überwindung, unmittelbar, Use_Case, Weiterentwicklung, Wertschöpfung, Wettbewerb, Wettbewerbsanalyse, Zukunft, zukünftig, Zweck'.split(', ')"
   ]
  },
  {
   "cell_type": "code",
   "execution_count": null,
   "id": "648ca21b-3e5d-499a-91d8-3c0af43558de",
   "metadata": {},
   "outputs": [],
   "source": [
    "data['aaa'] = data['text'].apply(lambda x: len([word for word in x.split() if word in set(cate1)]))\n",
    "data['bbb'] = data['text'].apply(lambda x: len([word for word in x.split() if word in set(cate2)]))\n",
    "data['ccc'] = data['text'].apply(lambda x: len([word for word in x.split() if word in set(cate3)]))"
   ]
  },
  {
   "cell_type": "code",
   "execution_count": null,
   "id": "14a5b2ae-464f-4ab8-9def-78e393f96ffb",
   "metadata": {},
   "outputs": [],
   "source": [
    "data['total'] = data['aaa'] + data['bbb'] + data['ccc']\n",
    "for i in set(cate1+cate2+cate3):\n",
    "    data[str(i)] = data['text'].apply(lambda x: x.count(i))"
   ]
  },
  {
   "cell_type": "code",
   "execution_count": null,
   "id": "c5537963-a20e-4694-a65a-260418c4b964",
   "metadata": {},
   "outputs": [],
   "source": []
  },
  {
   "cell_type": "markdown",
   "id": "8f08090c-cd48-4505-8cce-0c8b0853c8da",
   "metadata": {},
   "source": [
    "### Using the random to predict and concatenate rule-based and model prediction result"
   ]
  },
  {
   "cell_type": "code",
   "execution_count": 138,
   "id": "d8de1e17-d00c-4f28-bade-6d7f63170170",
   "metadata": {},
   "outputs": [],
   "source": [
    "final1 = clf.predict(data[data.columns[12:]])"
   ]
  },
  {
   "cell_type": "code",
   "execution_count": 139,
   "id": "2a384590-6b02-4566-94f3-a9912006adc0",
   "metadata": {},
   "outputs": [],
   "source": [
    "data['relevant'] = final1"
   ]
  },
  {
   "cell_type": "code",
   "execution_count": 140,
   "id": "3b293192-fdac-4456-acec-7e67e2a932d8",
   "metadata": {},
   "outputs": [],
   "source": [
    "aa = data[['text','Domain','Projects', 'file', 'exclude_inhalt', 'exclude_inhalt1', 'exclude_num_token', 'relevant']]"
   ]
  },
  {
   "cell_type": "code",
   "execution_count": 144,
   "id": "4d9ceee0-c054-41f2-b4ed-4da5d76a1264",
   "metadata": {},
   "outputs": [
    {
     "name": "stderr",
     "output_type": "stream",
     "text": [
      "/tmp/ipykernel_656949/1710346095.py:1: UserWarning: Boolean Series key will be reindexed to match DataFrame index.\n",
      "  ind = aa[aa['exclude_inhalt'] == False][aa['exclude_inhalt1'] == False][aa['exclude_num_token'] == False][aa['relevant']==1].index\n"
     ]
    }
   ],
   "source": [
    "ind = aa[aa['exclude_inhalt'] == False][aa['exclude_inhalt1'] == False][aa['exclude_num_token'] == False][aa['relevant']==1].index"
   ]
  },
  {
   "cell_type": "code",
   "execution_count": 149,
   "id": "1257ec39-347c-4416-8ec7-f2b67f4f1775",
   "metadata": {},
   "outputs": [
    {
     "name": "stderr",
     "output_type": "stream",
     "text": [
      "/tmp/ipykernel_656949/2946407759.py:1: SettingWithCopyWarning: \n",
      "A value is trying to be set on a copy of a slice from a DataFrame.\n",
      "Try using .loc[row_indexer,col_indexer] = value instead\n",
      "\n",
      "See the caveats in the documentation: https://pandas.pydata.org/pandas-docs/stable/user_guide/indexing.html#returning-a-view-versus-a-copy\n",
      "  aa['relevant'] = 0\n"
     ]
    }
   ],
   "source": [
    "aa['relevant'] = 0"
   ]
  },
  {
   "cell_type": "code",
   "execution_count": 167,
   "id": "6a5da525-3e2d-41c1-b6d4-65597cf7e2e8",
   "metadata": {},
   "outputs": [],
   "source": [
    "relevant = []\n",
    "for i in range(len(aa)):\n",
    "    if i in ind:\n",
    "        relevant.append(1)\n",
    "    else:\n",
    "        relevant.append(0)"
   ]
  },
  {
   "cell_type": "code",
   "execution_count": 177,
   "id": "e733cd23-1fcc-4a25-b389-347244804d42",
   "metadata": {},
   "outputs": [
    {
     "name": "stderr",
     "output_type": "stream",
     "text": [
      "/tmp/ipykernel_656949/1965354603.py:1: SettingWithCopyWarning: \n",
      "A value is trying to be set on a copy of a slice from a DataFrame.\n",
      "Try using .loc[row_indexer,col_indexer] = value instead\n",
      "\n",
      "See the caveats in the documentation: https://pandas.pydata.org/pandas-docs/stable/user_guide/indexing.html#returning-a-view-versus-a-copy\n",
      "  aa['relevant'] = relevant\n"
     ]
    }
   ],
   "source": [
    "aa['relevant'] = relevant"
   ]
  },
  {
   "cell_type": "code",
   "execution_count": 182,
   "id": "9005cb32-237a-4606-9182-49b947287f33",
   "metadata": {},
   "outputs": [],
   "source": [
    "# save results\n",
    "aa[['text','Domain','Projects', 'file', 'relevant']].to_csv('model_result_extraction.csv')"
   ]
  }
 ],
 "metadata": {
  "kernelspec": {
   "display_name": "Python 3 (ipykernel)",
   "language": "python",
   "name": "python3"
  },
  "language_info": {
   "codemirror_mode": {
    "name": "ipython",
    "version": 3
   },
   "file_extension": ".py",
   "mimetype": "text/x-python",
   "name": "python",
   "nbconvert_exporter": "python",
   "pygments_lexer": "ipython3",
   "version": "3.9.12"
  }
 },
 "nbformat": 4,
 "nbformat_minor": 5
}
