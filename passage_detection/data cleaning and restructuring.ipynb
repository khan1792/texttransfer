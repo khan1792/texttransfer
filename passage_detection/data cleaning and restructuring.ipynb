{
 "cells": [
  {
   "cell_type": "code",
   "execution_count": 19,
   "metadata": {},
   "outputs": [],
   "source": [
    "import os\n",
    "import re\n",
    "import pandas as pd\n",
    "path = 'C:/Users/kanya/Desktop/Documents/texttransfer data'\n",
    "subfolder = os.listdir(path)\n",
    "\n",
    "\n",
    "all_docs = []\n",
    "domains = []\n",
    "projects = []\n",
    "files = []\n",
    "for i in subfolder:\n",
    "    for j in os.listdir(path+'/'+ i):\n",
    "        with open (path+'/'+ i + '/' + j, \"r\", encoding=\"utf-8\") as myfile:\n",
    "            data=myfile.readlines()\n",
    "            data = ' '.join(data)\n",
    "        all_docs += [data]\n",
    "        domains += [i]\n",
    "        ind = [m.start() for m in re.finditer('_', j)]\n",
    "        files += [j]\n",
    "        projects += [j[ind[-2]+1:ind[-1]]]"
   ]
  },
  {
   "cell_type": "code",
   "execution_count": 21,
   "metadata": {},
   "outputs": [],
   "source": [
    "data = pd.DataFrame({'Domain': domains,\n",
    "                     'Projects': projects,\n",
    "                     'file':files,\n",
    "                     'text': all_docs})"
   ]
  },
  {
   "cell_type": "code",
   "execution_count": 23,
   "metadata": {},
   "outputs": [
    {
     "name": "stderr",
     "output_type": "stream",
     "text": [
      "C:\\Users\\kanya\\AppData\\Local\\Temp/ipykernel_277340/3152228529.py:3: FutureWarning: The default value of regex will change from True to False in a future version.\n",
      "  data['text1'] = data['text1'].str.replace('\\n \\n', ' wozhidaode').str.replace('\\n  \\n', ' wozhidaode').str.replace('\\n \\d+', ' wozhidaode').str.replace('\\n\\d+', ' wozhidaode').str.replace('\\n', '').str.replace('wozhidaode', '.\\n \\n')\n",
      "C:\\Users\\kanya\\AppData\\Local\\Temp/ipykernel_277340/3152228529.py:4: FutureWarning: The default value of regex will change from True to False in a future version.\n",
      "  data['text2'] = data['text1'].str.replace('. \\n ', '.\\n ').str.replace('.\\n ', 'wozhizhi').str.split('wozhizhi')\n"
     ]
    }
   ],
   "source": [
    "data['text1'] = data['text'].str.replace('-\\n ', '').str.replace('-\\n', '')\n",
    "data['text1'] = data['text1'].apply(lambda x: re.sub('\\s+pagebreak', ' PAGEBREAK wozhizhi', x))\n",
    "data['text1'] = data['text1'].str.replace('\\n \\n', ' wozhidaode').str.replace('\\n  \\n', ' wozhidaode').str.replace('\\n \\d+', ' wozhidaode').str.replace('\\n\\d+', ' wozhidaode').str.replace('\\n', '').str.replace('wozhidaode', '.\\n \\n')\n",
    "data['text2'] = data['text1'].str.replace('. \\n ', '.\\n ').str.replace('.\\n ', 'wozhizhi').str.split('wozhizhi')"
   ]
  },
  {
   "cell_type": "code",
   "execution_count": 24,
   "metadata": {},
   "outputs": [],
   "source": [
    "for i in range(len(data)):\n",
    "    if i == 0:\n",
    "        re_data = pd.DataFrame({'text': data['text2'][i]})\n",
    "        re_data['Domain'] = data['Domain'][i]\n",
    "        re_data['Projects'] = data['Projects'][i]\n",
    "        re_data['file'] = data['file'][i]\n",
    "    else:\n",
    "        re_data1 = pd.DataFrame({'text': data['text2'][i]})\n",
    "        re_data1['Domain'] = data['Domain'][i]\n",
    "        re_data1['Projects'] = data['Projects'][i]\n",
    "        re_data1['file'] = data['file'][i]\n",
    "        re_data = pd.concat([re_data, re_data1])"
   ]
  },
  {
   "cell_type": "code",
   "execution_count": 25,
   "metadata": {},
   "outputs": [],
   "source": [
    "re_data.index = range(len(re_data))\n",
    "re_data['text'] = re_data['text'].str.replace('\\s+', ' ', regex=True)"
   ]
  },
  {
   "cell_type": "code",
   "execution_count": 26,
   "metadata": {},
   "outputs": [],
   "source": [
    "re_data['len'] = re_data['text'].apply(lambda x: len(x))\n",
    "re_data = re_data[re_data['len'] >6]\n",
    "re_data.index = range(len(re_data))"
   ]
  },
  {
   "cell_type": "code",
   "execution_count": 27,
   "metadata": {},
   "outputs": [],
   "source": [
    "re_data['text'] = re_data['text'].apply(lambda x: x[1:] if x[0] == ' ' else x)\n",
    "re_data['text'] = re_data['text'].apply(lambda x: x[:-1] if x[-1] == ' ' else x)"
   ]
  },
  {
   "cell_type": "code",
   "execution_count": 28,
   "metadata": {},
   "outputs": [],
   "source": [
    "re_data['len'] = re_data['text'].apply(lambda x: len(x))\n",
    "re_data = re_data[re_data['len'] >5]\n",
    "re_data.index = range(len(re_data))"
   ]
  },
  {
   "cell_type": "code",
   "execution_count": 30,
   "metadata": {},
   "outputs": [],
   "source": [
    "re_data['text4model'] = re_data['text']"
   ]
  },
  {
   "cell_type": "code",
   "execution_count": 31,
   "metadata": {},
   "outputs": [],
   "source": [
    "tokens = re_data['text4model'].str.split(' ')\n",
    "for i in range(len(data)):\n",
    "    for j in range(len(tokens[i])):\n",
    "        if tokens[i][j].isupper():\n",
    "            tokens[i][j] = tokens[i][j].title()\n",
    "re_data['text4model'] = tokens\n",
    "re_data['text4model'] = re_data['text4model'].apply(lambda x: ' '.join(x))"
   ]
  },
  {
   "cell_type": "code",
   "execution_count": 32,
   "metadata": {},
   "outputs": [
    {
     "name": "stderr",
     "output_type": "stream",
     "text": [
      "C:\\Users\\kanya\\AppData\\Local\\Temp/ipykernel_269280/3536642181.py:1: FutureWarning: The default value of regex will change from True to False in a future version.\n",
      "  re_data['text4model'] = re_data['text4model'].str.replace('\\.\\.\\.', ' ').str.replace('\\s+', ' ', regex=True)\n"
     ]
    }
   ],
   "source": [
    "re_data['text4model'] = re_data['text4model'].str.replace('\\.\\.\\.', ' ').str.replace('\\s+', ' ', regex=True)"
   ]
  },
  {
   "cell_type": "code",
   "execution_count": 33,
   "metadata": {},
   "outputs": [],
   "source": [
    "re_data['text4model'] = re_data['text4model'].apply(lambda x: ' '.join([token for token in x.split() if len(token) >= 2]))"
   ]
  },
  {
   "cell_type": "code",
   "execution_count": null,
   "metadata": {},
   "outputs": [],
   "source": [
    "for text in re_data['text4model']:\n",
    "    doc = nlp(text)\n",
    "    result = \" \".join([ent.lemma_ for ent in doc])\n",
    "    lemma.append(result)"
   ]
  },
  {
   "cell_type": "code",
   "execution_count": null,
   "metadata": {},
   "outputs": [],
   "source": [
    "re_data['text4model'] = lemma"
   ]
  },
  {
   "cell_type": "code",
   "execution_count": null,
   "metadata": {},
   "outputs": [],
   "source": [
    "from nltk.corpus import stopwords\n",
    "stop = set(stopwords.words())\n",
    "re_data['text4model'] = re_data['text4model'].apply(lambda x: ' '.join([token for token in x.split() if token not in stop]))\n",
    "re_data['text4model'] = re_data['text4model'].apply(lambda x: ' '.join([token for token in x.split() if len(token) >= 3]))\n",
    "import string\n",
    "for i in range(len(data)):\n",
    "    re_data['text4model'][i] = re_data['text4model'][i].translate(str.maketrans('', '', string.punctuation))\n",
    "re_data['text4model'] = re_data['text4model'].str.replace('\\s+', ' ', regex=True)"
   ]
  },
  {
   "cell_type": "code",
   "execution_count": 38,
   "metadata": {},
   "outputs": [],
   "source": [
    "re_data['id'] = re_data.index\n",
    "re_data.to_csv('C:/Users/kanya/Desktop/ttparagraph_addmob.txt.gz', encoding = 'utf8', index = False)"
   ]
  },
  {
   "cell_type": "code",
   "execution_count": 12,
   "metadata": {},
   "outputs": [],
   "source": [
    "sample_list = ['KI_737_AutoPNP_856753408.txt',\n",
    "               'KI_517_Saki_863856837.txt',\n",
    "               'KI_578_SmartDataWeb_1686069537.txt',\n",
    "               'KI_320_IUNO_1670745120.txt',\n",
    "               'KI_690_UHCI_869843966.txt',\n",
    "               'Ling_126_AkaTex_873190904.txt',\n",
    "               'Ling_147_BIOGRAPHE_776146335.txt',\n",
    "               'Ling_207_Literaturkritik_487390423.txt',\n",
    "               'Ling_161_TextGridVernetzteForschungsumgebung_768470994.txt',\n",
    "               'Ling_196_DeutschIsraelischer_667762345.txt',\n",
    "               'MuWi_014_GlobalMusic2one_719934826.txt',\n",
    "               'MuWi_120_InnoRegio Musicon Valley_487476190.txt',\n",
    "               'MuWi_051_Kompetenznetzwerk QM & LE_1015232051.txt',\n",
    "               'MuWi_049_MuBiKi_1024722414.txt',\n",
    "               'MuWi_034_DysTract_1693406810.txt']"
   ]
  },
  {
   "cell_type": "code",
   "execution_count": 94,
   "metadata": {},
   "outputs": [],
   "source": [
    "re_data[re_data['file'].isin(sample_list)].to_excel('C:/Users/kanya/Desktop/impact_paragraph.xlsx', encoding = 'utf8', index = False)"
   ]
  },
  {
   "cell_type": "code",
   "execution_count": 14,
   "metadata": {},
   "outputs": [
    {
     "data": {
      "text/html": [
       "<div>\n",
       "<style scoped>\n",
       "    .dataframe tbody tr th:only-of-type {\n",
       "        vertical-align: middle;\n",
       "    }\n",
       "\n",
       "    .dataframe tbody tr th {\n",
       "        vertical-align: top;\n",
       "    }\n",
       "\n",
       "    .dataframe thead th {\n",
       "        text-align: right;\n",
       "    }\n",
       "</style>\n",
       "<table border=\"1\" class=\"dataframe\">\n",
       "  <thead>\n",
       "    <tr style=\"text-align: right;\">\n",
       "      <th></th>\n",
       "      <th>text</th>\n",
       "      <th>Domain</th>\n",
       "      <th>Projects</th>\n",
       "      <th>file</th>\n",
       "      <th>id</th>\n",
       "      <th>Impact</th>\n",
       "    </tr>\n",
       "  </thead>\n",
       "  <tbody>\n",
       "    <tr>\n",
       "      <th>0</th>\n",
       "      <td>.1 Aufgabenstellung Gegenstand und Ziel des Fo...</td>\n",
       "      <td>KI_PDFs</td>\n",
       "      <td>IUNO</td>\n",
       "      <td>KI_320_IUNO_1670745120.txt</td>\n",
       "      <td>62017</td>\n",
       "      <td>1</td>\n",
       "    </tr>\n",
       "    <tr>\n",
       "      <th>1</th>\n",
       "      <td>Copyright  IUNO 2015-2018 sicherzustellen, be...</td>\n",
       "      <td>KI_PDFs</td>\n",
       "      <td>IUNO</td>\n",
       "      <td>KI_320_IUNO_1670745120.txt</td>\n",
       "      <td>62018</td>\n",
       "      <td>1</td>\n",
       "    </tr>\n",
       "    <tr>\n",
       "      <th>2</th>\n",
       "      <td>Copyright  IUNO 2015-2018 praktischen Entwick...</td>\n",
       "      <td>KI_PDFs</td>\n",
       "      <td>IUNO</td>\n",
       "      <td>KI_320_IUNO_1670745120.txt</td>\n",
       "      <td>62019</td>\n",
       "      <td>1</td>\n",
       "    </tr>\n",
       "    <tr>\n",
       "      <th>3</th>\n",
       "      <td>.0 dar. Um den Status der Informationssicherhe...</td>\n",
       "      <td>KI_PDFs</td>\n",
       "      <td>IUNO</td>\n",
       "      <td>KI_320_IUNO_1670745120.txt</td>\n",
       "      <td>62020</td>\n",
       "      <td>1</td>\n",
       "    </tr>\n",
       "    <tr>\n",
       "      <th>4</th>\n",
       "      <td>Copyright  IUNO 2015-2018 Das Teilvorhaben de...</td>\n",
       "      <td>KI_PDFs</td>\n",
       "      <td>IUNO</td>\n",
       "      <td>KI_320_IUNO_1670745120.txt</td>\n",
       "      <td>62021</td>\n",
       "      <td>1</td>\n",
       "    </tr>\n",
       "    <tr>\n",
       "      <th>...</th>\n",
       "      <td>...</td>\n",
       "      <td>...</td>\n",
       "      <td>...</td>\n",
       "      <td>...</td>\n",
       "      <td>...</td>\n",
       "      <td>...</td>\n",
       "    </tr>\n",
       "    <tr>\n",
       "      <th>3171</th>\n",
       "      <td>Für eine Musikakademie oder sogar Landesmusika...</td>\n",
       "      <td>MuWi_PDFs</td>\n",
       "      <td>InnoRegio Musicon Valley</td>\n",
       "      <td>MuWi_120_InnoRegio Musicon Valley_487476190.txt</td>\n",
       "      <td>180141</td>\n",
       "      <td>0</td>\n",
       "    </tr>\n",
       "    <tr>\n",
       "      <th>3172</th>\n",
       "      <td>II. 3. des während der Durchführung des Vorhab...</td>\n",
       "      <td>MuWi_PDFs</td>\n",
       "      <td>InnoRegio Musicon Valley</td>\n",
       "      <td>MuWi_120_InnoRegio Musicon Valley_487476190.txt</td>\n",
       "      <td>180142</td>\n",
       "      <td>0</td>\n",
       "    </tr>\n",
       "    <tr>\n",
       "      <th>3173</th>\n",
       "      <td>Ergebnisse von dritter Seite, die für die Durc...</td>\n",
       "      <td>MuWi_PDFs</td>\n",
       "      <td>InnoRegio Musicon Valley</td>\n",
       "      <td>MuWi_120_InnoRegio Musicon Valley_487476190.txt</td>\n",
       "      <td>180143</td>\n",
       "      <td>0</td>\n",
       "    </tr>\n",
       "    <tr>\n",
       "      <th>3174</th>\n",
       "      <td>II. 4. der erfolgten oder geplanten Veröffentl...</td>\n",
       "      <td>MuWi_PDFs</td>\n",
       "      <td>InnoRegio Musicon Valley</td>\n",
       "      <td>MuWi_120_InnoRegio Musicon Valley_487476190.txt</td>\n",
       "      <td>180144</td>\n",
       "      <td>0</td>\n",
       "    </tr>\n",
       "    <tr>\n",
       "      <th>3175</th>\n",
       "      <td>Die bereits erfolgte umfangreiche Öffentlichke...</td>\n",
       "      <td>MuWi_PDFs</td>\n",
       "      <td>InnoRegio Musicon Valley</td>\n",
       "      <td>MuWi_120_InnoRegio Musicon Valley_487476190.txt</td>\n",
       "      <td>180145</td>\n",
       "      <td>0</td>\n",
       "    </tr>\n",
       "  </tbody>\n",
       "</table>\n",
       "<p>3176 rows × 6 columns</p>\n",
       "</div>"
      ],
      "text/plain": [
       "                                                   text     Domain  \\\n",
       "0     .1 Aufgabenstellung Gegenstand und Ziel des Fo...    KI_PDFs   \n",
       "1     Copyright  IUNO 2015-2018 sicherzustellen, be...    KI_PDFs   \n",
       "2     Copyright  IUNO 2015-2018 praktischen Entwick...    KI_PDFs   \n",
       "3     .0 dar. Um den Status der Informationssicherhe...    KI_PDFs   \n",
       "4     Copyright  IUNO 2015-2018 Das Teilvorhaben de...    KI_PDFs   \n",
       "...                                                 ...        ...   \n",
       "3171  Für eine Musikakademie oder sogar Landesmusika...  MuWi_PDFs   \n",
       "3172  II. 3. des während der Durchführung des Vorhab...  MuWi_PDFs   \n",
       "3173  Ergebnisse von dritter Seite, die für die Durc...  MuWi_PDFs   \n",
       "3174  II. 4. der erfolgten oder geplanten Veröffentl...  MuWi_PDFs   \n",
       "3175  Die bereits erfolgte umfangreiche Öffentlichke...  MuWi_PDFs   \n",
       "\n",
       "                      Projects  \\\n",
       "0                         IUNO   \n",
       "1                         IUNO   \n",
       "2                         IUNO   \n",
       "3                         IUNO   \n",
       "4                         IUNO   \n",
       "...                        ...   \n",
       "3171  InnoRegio Musicon Valley   \n",
       "3172  InnoRegio Musicon Valley   \n",
       "3173  InnoRegio Musicon Valley   \n",
       "3174  InnoRegio Musicon Valley   \n",
       "3175  InnoRegio Musicon Valley   \n",
       "\n",
       "                                                 file      id  Impact  \n",
       "0                          KI_320_IUNO_1670745120.txt   62017       1  \n",
       "1                          KI_320_IUNO_1670745120.txt   62018       1  \n",
       "2                          KI_320_IUNO_1670745120.txt   62019       1  \n",
       "3                          KI_320_IUNO_1670745120.txt   62020       1  \n",
       "4                          KI_320_IUNO_1670745120.txt   62021       1  \n",
       "...                                               ...     ...     ...  \n",
       "3171  MuWi_120_InnoRegio Musicon Valley_487476190.txt  180141       0  \n",
       "3172  MuWi_120_InnoRegio Musicon Valley_487476190.txt  180142       0  \n",
       "3173  MuWi_120_InnoRegio Musicon Valley_487476190.txt  180143       0  \n",
       "3174  MuWi_120_InnoRegio Musicon Valley_487476190.txt  180144       0  \n",
       "3175  MuWi_120_InnoRegio Musicon Valley_487476190.txt  180145       0  \n",
       "\n",
       "[3176 rows x 6 columns]"
      ]
     },
     "execution_count": 14,
     "metadata": {},
     "output_type": "execute_result"
    }
   ],
   "source": [
    "pd.read_excel('C:/Users/kanya/Desktop/impact_paragraph.xlsx')"
   ]
  }
 ],
 "metadata": {
  "kernelspec": {
   "display_name": "Python 3 (ipykernel)",
   "language": "python",
   "name": "python3"
  },
  "language_info": {
   "codemirror_mode": {
    "name": "ipython",
    "version": 3
   },
   "file_extension": ".py",
   "mimetype": "text/x-python",
   "name": "python",
   "nbconvert_exporter": "python",
   "pygments_lexer": "ipython3",
   "version": "3.8.5"
  }
 },
 "nbformat": 4,
 "nbformat_minor": 4
}
